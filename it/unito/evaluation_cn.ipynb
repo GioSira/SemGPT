{
 "cells": [
  {
   "cell_type": "markdown",
   "metadata": {},
   "source": [
    "## Evaluation with plots\n"
   ]
  },
  {
   "cell_type": "code",
   "execution_count": 2,
   "metadata": {},
   "outputs": [],
   "source": [
    "import numpy as np\n",
    "from texttable import Texttable\n",
    "import latextable\n",
    "import matplotlib.pyplot as plt\n",
    "from glob import glob"
   ]
  },
  {
   "cell_type": "markdown",
   "metadata": {},
   "source": [
    "## Conceptnet evaluation\n",
    "\n",
    "#### Hypernym relation"
   ]
  },
  {
   "cell_type": "code",
   "execution_count": 3,
   "metadata": {},
   "outputs": [
    {
     "name": "stdout",
     "output_type": "stream",
     "text": [
      "File: /Users/128525/Desktop/Uni/SemGPT/it/unito/evaluation/bert/cn\\is_a\\masked_second_concept_hyper_20.txt\n",
      "File: /Users/128525/Desktop/Uni/SemGPT/it/unito/evaluation/bert/cn\\specific_term\\masked_second_concept_hyper_20.txt\n",
      "File: /Users/128525/Desktop/Uni/SemGPT/it/unito/evaluation/bert/cn\\such_as\\masked_second_concept_hyper_20.txt\n",
      "File: /Users/128525/Desktop/Uni/SemGPT/it/unito/evaluation/electra/cn\\is_a\\masked_second_concept_hyper_20.txt\n",
      "File: /Users/128525/Desktop/Uni/SemGPT/it/unito/evaluation/electra/cn\\specific_term\\masked_second_concept_hyper_20.txt\n",
      "File: /Users/128525/Desktop/Uni/SemGPT/it/unito/evaluation/electra/cn\\such_as\\masked_second_concept_hyper_20.txt\n",
      "{'bert': [('is_a', [0.21, 0.3, 0.38, 0.45]), ('specific_term', [0.06, 0.09, 0.17, 0.27]), ('such_as', [0.22, 0.32, 0.4, 0.49])], 'electra': [('is_a', [0.09, 0.15, 0.23, 0.32]), ('specific_term', [0.02, 0.04, 0.06, 0.09]), ('such_as', [0.16, 0.24, 0.31, 0.38])]}\n",
      "{'bert': [('is_a', [0.21, 0.3, 0.38, 0.45]), ('specific_term', [0.06, 0.09, 0.17, 0.27]), ('such_as', [0.22, 0.32, 0.4, 0.49])], 'electra': [('is_a', [0.09, 0.15, 0.23, 0.32]), ('specific_term', [0.02, 0.04, 0.06, 0.09]), ('such_as', [0.16, 0.24, 0.31, 0.38])]}\n",
      "{'bert': [('is_a', 0.13), ('specific_term', 0.09), ('such_as', 0.14)], 'electra': [('is_a', 0.11), ('specific_term', 0.03), ('such_as', 0.13)]}\n"
     ]
    }
   ],
   "source": [
    "# Load the results\n",
    "\n",
    "models = [\"bert\", \"electra\"]\n",
    "kb = \"cn\"\n",
    "\n",
    "\n",
    "precisions_models = {}\n",
    "recall_models = {}\n",
    "mrr_models = {}\n",
    "\n",
    "for model in models:\n",
    "    main_folder = f'/Users/128525/Desktop/Uni/SemGPT/it/unito/evaluation/{model}/{kb}'\n",
    "\n",
    "    precisions = []\n",
    "    recalls = []\n",
    "    mrrs = []\n",
    "\n",
    "    for file in glob(main_folder+'/**/*.txt'):\n",
    "        print(f'File: {file}')\n",
    "        \n",
    "        #print(file.split(\"\\\\\")[-2])\n",
    "        type_relation = file.split(\"\\\\\")[-2]\n",
    "\n",
    "\n",
    "        with open(file, 'r', encoding=\"utf8\") as f:\n",
    "            lines = f.readlines()\n",
    "\n",
    "            precs_text = lines[:4]\n",
    "            \n",
    "            prec_rel_k = []\n",
    "            for line in precs_text:\n",
    "                split = line.strip().split(\": \")\n",
    "                prec_v = round(float(split[1]), 2)\n",
    "                prec_rel_k.append(prec_v)\n",
    "\n",
    "\n",
    "            recalls_text = lines[6:10]\n",
    "\n",
    "            recall_rel_k = []\n",
    "            for line in recalls_text:\n",
    "                split = line.strip().split(\": \")\n",
    "                recall_v = round(float(split[1]), 2)\n",
    "                recall_rel_k.append(recall_v)\n",
    "\n",
    "            mrr_text = lines[18] # line is mrr\n",
    "            split = mrr_text.strip().split(\": \")\n",
    "            mrr = round(float(split[1]), 2)\n",
    "\n",
    "\n",
    "        precisions.append((type_relation, prec_rel_k))\n",
    "\n",
    "        recalls.append((type_relation, recall_rel_k))\n",
    "\n",
    "        mrrs.append((type_relation, mrr))\n",
    "\n",
    "    precisions_models[model] = precisions\n",
    "    recall_models[model] = recalls\n",
    "    mrr_models[model] = mrrs\n",
    "\n",
    "\n",
    "print(precisions_models)\n",
    "print(recall_models)\n",
    "print(mrr_models)\n",
    "\n"
   ]
  },
  {
   "cell_type": "markdown",
   "metadata": {},
   "source": [
    "### PRECISION@K"
   ]
  },
  {
   "cell_type": "code",
   "execution_count": 4,
   "metadata": {},
   "outputs": [
    {
     "data": {
      "image/png": "[encoded data removed]",
      "text/plain": [
       "<Figure size 648x360 with 3 Axes>"
      ]
     },
     "metadata": {
      "needs_background": "light"
     },
     "output_type": "display_data"
    }
   ],
   "source": [
    "#fig, axes = plt.subplots(3, 1, sharex=True, sharey=True, layout=\"constrained\", figsize=(18, 10))\n",
    "\n",
    "fig, axes = plt.subplots(3, 1, sharex=True, sharey=True, layout=\"constrained\", figsize=(9, 5))\n",
    "\n",
    "width = 0.15  # the width of the bars\n",
    "\n",
    "models = tuple(models) # ci sono i modelli utilizzati \n",
    "\n",
    "relations = (\"is_a\", \"specific_term\", \"such_as\") # ci sono i tipi di relazione utilizzati \n",
    "\n",
    "labels = (\"p@1\", \"p@2\", \"p@5\", \"p@10\") # ci sono i valori di k utilizzati\n",
    "\n",
    "x = np.arange(len(labels))  # the label of precision\n",
    "\n",
    "for (i, j) in enumerate([0, 1, 2]):\n",
    "    \n",
    "\n",
    "    rects1 = axes[j].bar(x, precisions_models[models[0]][i][1], width, label=models[0])\n",
    "    axes[j].bar_label(rects1, padding=3)\n",
    "    \n",
    "    rects2 = axes[j].bar(x + width, precisions_models[models[1]][i][1], width, label=models[1])\n",
    "    axes[j].bar_label(rects2, padding=3)\n",
    "\n",
    "    #rects3 = axes[j].bar(x + 2*width, precisions_models[models[2]][i][1], width, label=models[2])\n",
    "    #axes[j].bar_label(rects3, padding=3)\n",
    "\n",
    "    #rects4 = axes[j].bar(x + 3*width, precisions_models[models[3]][i][1], width, label=models[3])\n",
    "    #axes[j].bar_label(rects4, padding=3)\n",
    "\n",
    "\n",
    "    # Add some text for labels, title and custom x-axis tick labels, etc.\n",
    "    axes[j].set_ylabel(precisions_models[models[0]][i][0])\n",
    "    axes[j].set_title('Precision by models and k')\n",
    "    axes[j].set_xticks(x, labels)\n",
    "    axes[j].legend()\n",
    "\n",
    "\n",
    "plt.show()"
   ]
  },
  {
   "cell_type": "markdown",
   "metadata": {},
   "source": [
    "### RECALL@K"
   ]
  },
  {
   "cell_type": "code",
   "execution_count": 5,
   "metadata": {},
   "outputs": [
    {
     "data": {
      "image/png": "[encoded data removed]",
      "text/plain": [
       "<Figure size 648x360 with 3 Axes>"
      ]
     },
     "metadata": {
      "needs_background": "light"
     },
     "output_type": "display_data"
    }
   ],
   "source": [
    "#fig, axes = plt.subplots(3, 1, sharex=True, sharey=True, layout=\"constrained\", figsize=(18, 10))\n",
    "\n",
    "fig, axes = plt.subplots(3, 1, sharex=True, sharey=True, layout=\"constrained\", figsize=(9, 5))\n",
    "\n",
    "width = 0.15  # the width of the bars\n",
    "\n",
    "models = tuple(models) # ci sono i modelli utilizzati \n",
    "\n",
    "relations = (\"is_a\", \"specific_term\", \"such_as\") # ci sono i tipi di relazione utilizzati \n",
    "\n",
    "labels = (\"H@1\", \"H@2\", \"H@5\", \"H@10\") # ci sono i valori di k utilizzati\n",
    "\n",
    "x = np.arange(len(labels))  # the label of precision\n",
    "\n",
    "for (i, j) in enumerate([0, 1, 2]):    \n",
    "\n",
    "    rects1 = axes[j].bar(x, recall_models[models[0]][i][1], width, label=models[0])\n",
    "    axes[j].bar_label(rects1, padding=3)\n",
    "    \n",
    "    rects2 = axes[j].bar(x + width, precisions_models[models[1]][i][1], width, label=models[1])\n",
    "    axes[j].bar_label(rects2, padding=3)\n",
    "\n",
    "    #rects3 = axes[j].bar(x + 2*width, precisions_models[models[2]][i][1], width, label=models[2])\n",
    "    #axes[j].bar_label(rects3, padding=3)\n",
    "\n",
    "    #rects4 = axes[j, k].bar(x + 3*width, precisions_models[models[3]][i][1], width, label=models[3])\n",
    "    #axes[j, k].bar_label(rects4, padding=3)\n",
    "    \n",
    "\n",
    "\n",
    "    #rects1 = ax.bar(x - width/2, men_means, width, label='')\n",
    "    #rects2 = ax.bar(x + width/2, women_means, width, label='')\n",
    "\n",
    "\n",
    "    # Add some text for labels, title and custom x-axis tick labels, etc.\n",
    "    axes[j].set_ylabel(recall_models[models[0]][i][0])\n",
    "    axes[j].set_title('Recall by models and k')\n",
    "    axes[j].set_xticks(x, labels)\n",
    "    axes[j].legend()\n",
    "\n",
    "\n",
    "plt.show()"
   ]
  },
  {
   "cell_type": "markdown",
   "metadata": {},
   "source": [
    "### MRR"
   ]
  },
  {
   "cell_type": "code",
   "execution_count": 6,
   "metadata": {},
   "outputs": [
    {
     "name": "stdout",
     "output_type": "stream",
     "text": [
      "+---------------+----------+-------------+\n",
      "| Experiment    | MRR-BERT | MRR-ELECTRA |\n",
      "+---------------+----------+-------------+\n",
      "| is_a          | 0.130    | 0.110       |\n",
      "+---------------+----------+-------------+\n",
      "| specific_term | 0.090    | 0.030       |\n",
      "+---------------+----------+-------------+\n",
      "| such_as       | 0.140    | 0.130       |\n",
      "+---------------+----------+-------------+\n",
      "\n",
      "Latextable Output:\n",
      "\\begin{table}\n",
      "\t\\begin{center}\n",
      "\t\t\\begin{tabular}{|m|m|m|}\n",
      "\t\t\t\\hline\n",
      "\t\t\t \\\\\n",
      "\t\t\t\\hline\n",
      "\t\t\tExperiment & MRR-BERT & MRR-ELECTRA \\\\\n",
      "\t\t\t\\hline\n",
      "\t\t\tis_a & 0.130 & 0.110 \\\\\n",
      "\t\t\t\\hline\n",
      "\t\t\tspecific_term & 0.090 & 0.030 \\\\\n",
      "\t\t\t\\hline\n",
      "\t\t\tsuch_as & 0.140 & 0.130 \\\\\n",
      "\t\t\t\\hline\n",
      "\t\t\\end{tabular}\n",
      "\t\\end{center}\n",
      "\t\\caption{An example table.}\n",
      "\t\\label{table:example_table}\n",
      "\\end{table}\n"
     ]
    }
   ],
   "source": [
    "table = Texttable()\n",
    "table.set_cols_align([\"m\", \"m\", \"m\"])\n",
    "table.add_row([\"Experiment\", \"MRR-BERT\", \"MRR-ELECTRA\"])\n",
    "\n",
    "for (experiment, value_bert), (_, value_electra) in zip(mrr_models[\"bert\"], mrr_models[\"electra\"]):\n",
    "    table.add_row([experiment, value_bert, value_electra])\n",
    "\n",
    "\n",
    "print(table.draw())\n",
    "print('\\nLatextable Output:')\n",
    "print(latextable.draw_latex(table, caption=\"An example table.\", label=\"table:example_table\"))"
   ]
  },
  {
   "cell_type": "markdown",
   "metadata": {},
   "source": [
    "#### Other relations\n",
    "\n",
    "Hyponyms\n",
    "\n",
    "At location\n",
    "\n",
    "Synonym\n",
    "\n",
    "Used for"
   ]
  },
  {
   "cell_type": "code",
   "execution_count": 14,
   "metadata": {},
   "outputs": [
    {
     "name": "stdout",
     "output_type": "stream",
     "text": [
      "File: /Users/128525/Desktop/Uni/SemGPT/it/unito/evaluation/bert/cn\\masked_second_concept_at_location_20.txt\n",
      "Relation: at_location\n",
      "File: /Users/128525/Desktop/Uni/SemGPT/it/unito/evaluation/bert/cn\\masked_second_concept_hypo_20.txt\n",
      "Relation: hypo\n",
      "File: /Users/128525/Desktop/Uni/SemGPT/it/unito/evaluation/bert/cn\\masked_second_concept_synonym_20.txt\n",
      "Relation: synonym\n",
      "File: /Users/128525/Desktop/Uni/SemGPT/it/unito/evaluation/bert/cn\\masked_second_concept_used_for_20.txt\n",
      "Relation: used_for\n",
      "File: /Users/128525/Desktop/Uni/SemGPT/it/unito/evaluation/electra/cn\\masked_second_concept_at_location_20.txt\n",
      "Relation: at_location\n",
      "File: /Users/128525/Desktop/Uni/SemGPT/it/unito/evaluation/electra/cn\\masked_second_concept_hypo_20.txt\n",
      "Relation: hypo\n",
      "File: /Users/128525/Desktop/Uni/SemGPT/it/unito/evaluation/electra/cn\\masked_second_concept_synonym_20.txt\n",
      "Relation: synonym\n",
      "File: /Users/128525/Desktop/Uni/SemGPT/it/unito/evaluation/electra/cn\\masked_second_concept_used_for_20.txt\n",
      "Relation: used_for\n",
      "{'bert': [('at_location', [0.02, 0.04, 0.09, 0.13]), ('hypo', [0.02, 0.02, 0.04, 0.04]), ('synonym', [0.05, 0.09, 0.1, 0.11]), ('used_for', [0.16, 0.2, 0.28, 0.36])], 'electra': [('at_location', [0.04, 0.06, 0.1, 0.14]), ('hypo', [0.0, 0.0, 0.0, 0.0]), ('synonym', [0.04, 0.06, 0.06, 0.07]), ('used_for', [0.13, 0.16, 0.24, 0.28])]}\n",
      "{'bert': [('at_location', [0.02, 0.04, 0.09, 0.13]), ('hypo', [0.02, 0.02, 0.04, 0.04]), ('synonym', [0.05, 0.09, 0.1, 0.11]), ('used_for', [0.16, 0.2, 0.28, 0.36])], 'electra': [('at_location', [0.04, 0.06, 0.1, 0.14]), ('hypo', [0.0, 0.0, 0.0, 0.0]), ('synonym', [0.04, 0.06, 0.06, 0.07]), ('used_for', [0.13, 0.16, 0.24, 0.28])]}\n",
      "{'bert': [('at_location', 0.05), ('hypo', 0.01), ('synonym', 0.05), ('used_for', 0.09)], 'electra': [('at_location', 0.04), ('hypo', 0.0), ('synonym', 0.02), ('used_for', 0.07)]}\n"
     ]
    }
   ],
   "source": [
    "# Load the results\n",
    "\n",
    "models = [\"bert\", \"electra\"]\n",
    "kb = \"cn\"\n",
    "\n",
    "relations = [\"at_location\", \"hypo\", \"synonym\", \"used_for\"]\n",
    "\n",
    "precisions_models = {}\n",
    "recall_models = {}\n",
    "mrr_models = {}\n",
    "\n",
    "for model in models:\n",
    "    main_folder = f'/Users/128525/Desktop/Uni/SemGPT/it/unito/evaluation/{model}/{kb}'\n",
    "\n",
    "    precisions = []\n",
    "    recalls = []\n",
    "    mrrs = []\n",
    "\n",
    "    for file in glob(main_folder+'/*.txt'):\n",
    "        print(f'File: {file}')\n",
    "\n",
    "        rel = \"\"\n",
    "\n",
    "        for relation in relations:\n",
    "            if relation in file:\n",
    "                print(f'Relation: {relation}')\n",
    "                rel = relation\n",
    "\n",
    "\n",
    "        with open(file, 'r', encoding=\"utf8\") as f:\n",
    "            lines = f.readlines()\n",
    "\n",
    "            precs_text = lines[:4]\n",
    "            \n",
    "            prec_rel_k = []\n",
    "            for line in precs_text:\n",
    "                split = line.strip().split(\": \")\n",
    "                prec_v = round(float(split[1]), 2)\n",
    "                prec_rel_k.append(prec_v)\n",
    "\n",
    "\n",
    "            recalls_text = lines[6:10]\n",
    "\n",
    "            recall_rel_k = []\n",
    "            for line in recalls_text:\n",
    "                split = line.strip().split(\": \")\n",
    "                recall_v = round(float(split[1]), 2)\n",
    "                recall_rel_k.append(recall_v)\n",
    "\n",
    "            mrr_text = lines[18] # line is mrr\n",
    "            split = mrr_text.strip().split(\": \")\n",
    "            mrr = round(float(split[1]), 2)\n",
    "\n",
    "\n",
    "        precisions.append((rel, prec_rel_k))\n",
    "\n",
    "        recalls.append((rel, recall_rel_k))\n",
    "\n",
    "        mrrs.append((rel,mrr))\n",
    "\n",
    "    precisions_models[model] = precisions\n",
    "    recall_models[model] = recalls\n",
    "    mrr_models[model] = mrrs\n",
    "\n",
    "\n",
    "print(precisions_models)\n",
    "print(recall_models)\n",
    "print(mrr_models)\n",
    "\n"
   ]
  },
  {
   "cell_type": "markdown",
   "metadata": {},
   "source": [
    "### PRECISION@k\n"
   ]
  },
  {
   "cell_type": "code",
   "execution_count": 15,
   "metadata": {},
   "outputs": [
    {
     "name": "stdout",
     "output_type": "stream",
     "text": [
      "+---------+-------------+---------+---------+----------+\n",
      "| Model   | At_location | Hyponym | Synonym | Used_for |\n",
      "+---------+-------------+---------+---------+----------+\n",
      "| BERT    | 0.020       | 0.020   | 0.050   | 0.160    |\n",
      "+---------+-------------+---------+---------+----------+\n",
      "| ELECTRA | 0.040       | 0       | 0.040   | 0.130    |\n",
      "+---------+-------------+---------+---------+----------+\n",
      "\n",
      "Latextable Output:\n",
      "\\begin{table}\n",
      "\t\\begin{center}\n",
      "\t\t\\begin{tabular}{|l|m|m|m|m|}\n",
      "\t\t\t\\hline\n",
      "\t\t\t \\\\\n",
      "\t\t\t\\hline\n",
      "\t\t\tModel & At_location & Hyponym & Synonym & Used_for \\\\\n",
      "\t\t\t\\hline\n",
      "\t\t\tBERT & 0.020 & 0.020 & 0.050 & 0.160 \\\\\n",
      "\t\t\t\\hline\n",
      "\t\t\tELECTRA & 0.040 & 0 & 0.040 & 0.130 \\\\\n",
      "\t\t\t\\hline\n",
      "\t\t\\end{tabular}\n",
      "\t\\end{center}\n",
      "\t\\caption{An example table.}\n",
      "\t\\label{table:example_table}\n",
      "\\end{table}\n"
     ]
    }
   ],
   "source": [
    "table = Texttable()\n",
    "table.set_cols_align([\"l\", \"m\", \"m\", \"m\", \"m\"])\n",
    "table.add_row([\"Model\", \"At_location\", \"Hyponym\", \"Synonym\", \"Used_for\"])\n",
    "\n",
    "for model in models:\n",
    "    \n",
    "    precs = precisions_models[model]\n",
    "\n",
    "    row = []\n",
    "\n",
    "    for prec in precs:\n",
    "        row.append(prec[1][0])\n",
    "    \n",
    "    table.add_row([model.upper(), row[0], row[1], row[2], row[3]])\n",
    "\n",
    "\n",
    "print(table.draw())\n",
    "print('\\nLatextable Output:')\n",
    "print(latextable.draw_latex(table, caption=\"An example table.\", label=\"table:example_table\"))"
   ]
  },
  {
   "cell_type": "markdown",
   "metadata": {},
   "source": [
    "### RECALL@k"
   ]
  },
  {
   "cell_type": "code",
   "execution_count": 16,
   "metadata": {},
   "outputs": [
    {
     "name": "stdout",
     "output_type": "stream",
     "text": [
      "+---------+-------------+---------+---------+----------+\n",
      "| Model   | At_location | Hyponym | Synonym | Used_for |\n",
      "+---------+-------------+---------+---------+----------+\n",
      "| BERT    | 0.020       | 0.020   | 0.050   | 0.160    |\n",
      "+---------+-------------+---------+---------+----------+\n",
      "| ELECTRA | 0.040       | 0       | 0.040   | 0.130    |\n",
      "+---------+-------------+---------+---------+----------+\n",
      "\n",
      "Latextable Output:\n",
      "\\begin{table}\n",
      "\t\\begin{center}\n",
      "\t\t\\begin{tabular}{|l|m|m|m|m|}\n",
      "\t\t\t\\hline\n",
      "\t\t\t \\\\\n",
      "\t\t\t\\hline\n",
      "\t\t\tModel & At_location & Hyponym & Synonym & Used_for \\\\\n",
      "\t\t\t\\hline\n",
      "\t\t\tBERT & 0.020 & 0.020 & 0.050 & 0.160 \\\\\n",
      "\t\t\t\\hline\n",
      "\t\t\tELECTRA & 0.040 & 0 & 0.040 & 0.130 \\\\\n",
      "\t\t\t\\hline\n",
      "\t\t\\end{tabular}\n",
      "\t\\end{center}\n",
      "\t\\caption{An example table.}\n",
      "\t\\label{table:example_table}\n",
      "\\end{table}\n"
     ]
    }
   ],
   "source": [
    "table = Texttable()\n",
    "table.set_cols_align([\"l\", \"m\", \"m\", \"m\", \"m\"])\n",
    "table.add_row([\"Model\", \"At_location\", \"Hyponym\", \"Synonym\", \"Used_for\"])\n",
    "\n",
    "for model in models:\n",
    "    \n",
    "    recalls = recall_models[model]\n",
    "\n",
    "    row = []\n",
    "\n",
    "    for recall in recalls:\n",
    "        row.append(recall[1][0])\n",
    "    \n",
    "    table.add_row([model.upper(), row[0], row[1], row[2], row[3]])\n",
    "\n",
    "\n",
    "print(table.draw())\n",
    "print('\\nLatextable Output:')\n",
    "print(latextable.draw_latex(table, caption=\"An example table.\", label=\"table:example_table\"))"
   ]
  },
  {
   "cell_type": "markdown",
   "metadata": {},
   "source": [
    "### MRR"
   ]
  },
  {
   "cell_type": "code",
   "execution_count": 18,
   "metadata": {},
   "outputs": [
    {
     "name": "stdout",
     "output_type": "stream",
     "text": [
      "+---------+-------------+---------+---------+----------+\n",
      "| Model   | At_location | Hyponym | Synonym | Used_for |\n",
      "+---------+-------------+---------+---------+----------+\n",
      "| BERT    | 0.050       | 0.010   | 0.050   | 0.090    |\n",
      "+---------+-------------+---------+---------+----------+\n",
      "| ELECTRA | 0.040       | 0       | 0.020   | 0.070    |\n",
      "+---------+-------------+---------+---------+----------+\n",
      "\n",
      "Latextable Output:\n",
      "\\begin{table}\n",
      "\t\\begin{center}\n",
      "\t\t\\begin{tabular}{|l|m|m|m|m|}\n",
      "\t\t\t\\hline\n",
      "\t\t\t \\\\\n",
      "\t\t\t\\hline\n",
      "\t\t\tModel & At_location & Hyponym & Synonym & Used_for \\\\\n",
      "\t\t\t\\hline\n",
      "\t\t\tBERT & 0.050 & 0.010 & 0.050 & 0.090 \\\\\n",
      "\t\t\t\\hline\n",
      "\t\t\tELECTRA & 0.040 & 0 & 0.020 & 0.070 \\\\\n",
      "\t\t\t\\hline\n",
      "\t\t\\end{tabular}\n",
      "\t\\end{center}\n",
      "\t\\caption{An example table.}\n",
      "\t\\label{table:example_table}\n",
      "\\end{table}\n"
     ]
    }
   ],
   "source": [
    "table = Texttable()\n",
    "table.set_cols_align([\"l\", \"m\", \"m\", \"m\", \"m\"])\n",
    "table.add_row([\"Model\", \"At_location\", \"Hyponym\", \"Synonym\", \"Used_for\"])\n",
    "\n",
    "for model in models:\n",
    "    \n",
    "    mrrs = mrr_models[model]\n",
    "\n",
    "    row = []\n",
    "\n",
    "    for mrr in mrrs:\n",
    "        row.append(mrr[1])\n",
    "    \n",
    "    table.add_row([model.upper(), row[0], row[1], row[2], row[3]])\n",
    "\n",
    "\n",
    "print(table.draw())\n",
    "print('\\nLatextable Output:')\n",
    "print(latextable.draw_latex(table, caption=\"An example table.\", label=\"table:example_table\"))"
   ]
  }
 ],
 "metadata": {
  "kernelspec": {
   "display_name": "Python 3",
   "language": "python",
   "name": "python3"
  },
  "language_info": {
   "codemirror_mode": {
    "name": "ipython",
    "version": 3
   },
   "file_extension": ".py",
   "mimetype": "text/x-python",
   "name": "python",
   "nbconvert_exporter": "python",
   "pygments_lexer": "ipython3",
   "version": "3.9.9"
  },
  "orig_nbformat": 4
 },
 "nbformat": 4,
 "nbformat_minor": 2
}
