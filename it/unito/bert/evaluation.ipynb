{
 "cells": [
  {
   "cell_type": "markdown",
   "metadata": {},
   "source": [
    "### Evaluation Bert\n"
   ]
  },
  {
   "cell_type": "code",
   "execution_count": 1,
   "metadata": {},
   "outputs": [],
   "source": [
    "import pickle"
   ]
  },
  {
   "cell_type": "markdown",
   "metadata": {},
   "source": [
    "#### Wordnet"
   ]
  },
  {
   "cell_type": "markdown",
   "metadata": {},
   "source": [
    "##### 1. read results"
   ]
  },
  {
   "cell_type": "code",
   "execution_count": 3,
   "metadata": {},
   "outputs": [
    {
     "data": {
      "text/plain": [
       "[([{'score': 0.37673959136009216,\n",
       "    'token': 16002,\n",
       "    'token_str': 'GPS',\n",
       "    'sequence': 'accelerometer is an hypernym of GPS.'},\n",
       "   {'score': 0.08523531258106232,\n",
       "    'token': 18383,\n",
       "    'token_str': 'acceleration',\n",
       "    'sequence': 'accelerometer is an hypernym of acceleration.'},\n",
       "   {'score': 0.05046077445149422,\n",
       "    'token': 7746,\n",
       "    'token_str': 'radar',\n",
       "    'sequence': 'accelerometer is an hypernym of radar.'},\n",
       "   {'score': 0.03229720517992973,\n",
       "    'token': 2420,\n",
       "    'token_str': 'speed',\n",
       "    'sequence': 'accelerometer is an hypernym of speed.'},\n",
       "   {'score': 0.01913011446595192,\n",
       "    'token': 23962,\n",
       "    'token_str': 'compass',\n",
       "    'sequence': 'accelerometer is an hypernym of compass.'}],\n",
       "  'measuring instrument')]"
      ]
     },
     "execution_count": 3,
     "metadata": {},
     "output_type": "execute_result"
    }
   ],
   "source": [
    "with open(f\"res/wn/sentence_first\", \"rb\") as f:\n",
    "    sentence_first = pickle.load(f) \n",
    "\n",
    "sentence_first[:1]"
   ]
  },
  {
   "cell_type": "code",
   "execution_count": null,
   "metadata": {},
   "outputs": [],
   "source": []
  }
 ],
 "metadata": {
  "kernelspec": {
   "display_name": "Python 3",
   "language": "python",
   "name": "python3"
  },
  "language_info": {
   "codemirror_mode": {
    "name": "ipython",
    "version": 3
   },
   "file_extension": ".py",
   "mimetype": "text/x-python",
   "name": "python",
   "nbconvert_exporter": "python",
   "pygments_lexer": "ipython3",
   "version": "3.9.9"
  },
  "orig_nbformat": 4
 },
 "nbformat": 4,
 "nbformat_minor": 2
}
