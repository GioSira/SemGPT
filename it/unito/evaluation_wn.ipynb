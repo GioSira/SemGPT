{
 "cells": [
  {
   "cell_type": "markdown",
   "metadata": {},
   "source": [
    "## Evaluation with plots\n"
   ]
  },
  {
   "cell_type": "code",
   "execution_count": 1,
   "metadata": {},
   "outputs": [],
   "source": [
    "import numpy as np\n",
    "from texttable import Texttable\n",
    "import latextable\n",
    "import matplotlib.pyplot as plt\n",
    "from glob import glob"
   ]
  },
  {
   "cell_type": "markdown",
   "metadata": {},
   "source": [
    "## Wordnet evaluation\n",
    "\n",
    "#### Hypernym relation"
   ]
  },
  {
   "cell_type": "code",
   "execution_count": 2,
   "metadata": {},
   "outputs": [
    {
     "name": "stdout",
     "output_type": "stream",
     "text": [
      "File: /Users/128525/Desktop/Uni/SemGPT/it/unito/evaluation/bert/wn\\is_a\\hypernym_sents_masked_first_20.txt\n",
      "File: /Users/128525/Desktop/Uni/SemGPT/it/unito/evaluation/bert/wn\\specific_term\\hypernym_sents_masked_first_20.txt\n",
      "File: /Users/128525/Desktop/Uni/SemGPT/it/unito/evaluation/bert/wn\\such_as\\hypernym_sents_masked_first_20.txt\n",
      "File: /Users/128525/Desktop/Uni/SemGPT/it/unito/evaluation/electra/wn\\is_a\\hypernym_sents_masked_first_20.txt\n",
      "File: /Users/128525/Desktop/Uni/SemGPT/it/unito/evaluation/electra/wn\\specific_term\\hypernym_sents_masked_first_20.txt\n",
      "File: /Users/128525/Desktop/Uni/SemGPT/it/unito/evaluation/electra/wn\\such_as\\hypernym_sents_masked_first_20.txt\n",
      "{'bert': [('is_a', [0.15, 0.24, 0.37, 0.44]), ('specific_term', [0.17, 0.28, 0.38, 0.44]), ('such_as', [0.18, 0.28, 0.38, 0.45])], 'electra': [('is_a', [0.06, 0.07, 0.17, 0.27]), ('specific_term', [0.02, 0.02, 0.1, 0.19]), ('such_as', [0.11, 0.17, 0.26, 0.32])]}\n",
      "{'bert': [('is_a', [0.11, 0.2, 0.34, 0.42]), ('specific_term', [0.12, 0.24, 0.34, 0.42]), ('such_as', [0.12, 0.22, 0.35, 0.44])], 'electra': [('is_a', [0.04, 0.05, 0.15, 0.26]), ('specific_term', [0.01, 0.02, 0.08, 0.18]), ('such_as', [0.07, 0.12, 0.22, 0.3])]}\n",
      "{'bert': [('is_a', 0.16), ('specific_term', 0.17), ('such_as', 0.16)], 'electra': [('is_a', 0.07), ('specific_term', 0.05), ('such_as', 0.11)]}\n"
     ]
    }
   ],
   "source": [
    "# Load the results\n",
    "\n",
    "models = [\"bert\", \"electra\"]\n",
    "kb = \"wn\"\n",
    "\n",
    "\n",
    "precisions_models = {}\n",
    "recall_models = {}\n",
    "mrr_models = {}\n",
    "\n",
    "for model in models:\n",
    "    main_folder = f'/Users/128525/Desktop/Uni/SemGPT/it/unito/evaluation/{model}/{kb}'\n",
    "\n",
    "    precisions = []\n",
    "    recalls = []\n",
    "    mrrs = []\n",
    "\n",
    "    for file in glob(main_folder+'/**/*.txt'):\n",
    "        print(f'File: {file}')\n",
    "        \n",
    "        #print(file.split(\"\\\\\")[-2])\n",
    "        type_relation = file.split(\"\\\\\")[-2]\n",
    "\n",
    "\n",
    "        with open(file, 'r', encoding=\"utf8\") as f:\n",
    "            lines = f.readlines()\n",
    "\n",
    "            precs_text = lines[:4]\n",
    "            \n",
    "            prec_rel_k = []\n",
    "            for line in precs_text:\n",
    "                split = line.strip().split(\": \")\n",
    "                prec_v = round(float(split[1]), 2)\n",
    "                prec_rel_k.append(prec_v)\n",
    "\n",
    "\n",
    "            recalls_text = lines[6:10]\n",
    "\n",
    "            recall_rel_k = []\n",
    "            for line in recalls_text:\n",
    "                split = line.strip().split(\": \")\n",
    "                recall_v = round(float(split[1]), 2)\n",
    "                recall_rel_k.append(recall_v)\n",
    "\n",
    "            mrr_text = lines[18] # line is mrr\n",
    "            split = mrr_text.strip().split(\": \")\n",
    "            mrr = round(float(split[1]), 2)\n",
    "\n",
    "\n",
    "        precisions.append((type_relation, prec_rel_k))\n",
    "\n",
    "        recalls.append((type_relation, recall_rel_k))\n",
    "\n",
    "        mrrs.append((type_relation, mrr))\n",
    "\n",
    "    precisions_models[model] = precisions\n",
    "    recall_models[model] = recalls\n",
    "    mrr_models[model] = mrrs\n",
    "\n",
    "\n",
    "print(precisions_models)\n",
    "print(recall_models)\n",
    "print(mrr_models)\n",
    "\n"
   ]
  },
  {
   "cell_type": "markdown",
   "metadata": {},
   "source": [
    "### PRECISION@K"
   ]
  },
  {
   "cell_type": "code",
   "execution_count": 3,
   "metadata": {},
   "outputs": [
    {
     "data": {
      "image/png": "[encoded data removed]",
      "text/plain": [
       "<Figure size 648x360 with 3 Axes>"
      ]
     },
     "metadata": {
      "needs_background": "light"
     },
     "output_type": "display_data"
    }
   ],
   "source": [
    "#fig, axes = plt.subplots(3, 1, sharex=True, sharey=True, layout=\"constrained\", figsize=(18, 10))\n",
    "\n",
    "fig, axes = plt.subplots(3, 1, sharex=True, sharey=True, layout=\"constrained\", figsize=(9, 5))\n",
    "\n",
    "width = 0.15  # the width of the bars\n",
    "\n",
    "models = tuple(models) # ci sono i modelli utilizzati \n",
    "\n",
    "relations = (\"is_a\", \"specific_term\", \"such_as\") # ci sono i tipi di relazione utilizzati \n",
    "\n",
    "labels = (\"p@1\", \"p@2\", \"p@5\", \"p@10\") # ci sono i valori di k utilizzati\n",
    "\n",
    "x = np.arange(len(labels))  # the label of precision\n",
    "\n",
    "for (i, j) in enumerate([0, 1, 2]):\n",
    "    \n",
    "\n",
    "    rects1 = axes[j].bar(x, precisions_models[models[0]][i][1], width, label=models[0])\n",
    "    axes[j].bar_label(rects1, padding=3)\n",
    "    \n",
    "    rects2 = axes[j].bar(x + width, precisions_models[models[1]][i][1], width, label=models[1])\n",
    "    axes[j].bar_label(rects2, padding=3)\n",
    "\n",
    "    #rects3 = axes[j].bar(x + 2*width, precisions_models[models[2]][i][1], width, label=models[2])\n",
    "    #axes[j].bar_label(rects3, padding=3)\n",
    "\n",
    "    #rects4 = axes[j].bar(x + 3*width, precisions_models[models[3]][i][1], width, label=models[3])\n",
    "    #axes[j].bar_label(rects4, padding=3)\n",
    "\n",
    "\n",
    "    # Add some text for labels, title and custom x-axis tick labels, etc.\n",
    "    axes[j].set_ylabel(precisions_models[models[0]][i][0])\n",
    "    axes[j].set_title('Precision by models and k')\n",
    "    axes[j].set_xticks(x, labels)\n",
    "    axes[j].legend()\n",
    "\n",
    "\n",
    "plt.show()"
   ]
  },
  {
   "cell_type": "markdown",
   "metadata": {},
   "source": [
    "### RECALL@K"
   ]
  },
  {
   "cell_type": "code",
   "execution_count": 4,
   "metadata": {},
   "outputs": [
    {
     "data": {
      "image/png": "[encoded data removed]",
      "text/plain": [
       "<Figure size 648x360 with 3 Axes>"
      ]
     },
     "metadata": {
      "needs_background": "light"
     },
     "output_type": "display_data"
    }
   ],
   "source": [
    "#fig, axes = plt.subplots(3, 1, sharex=True, sharey=True, layout=\"constrained\", figsize=(18, 10))\n",
    "\n",
    "fig, axes = plt.subplots(3, 1, sharex=True, sharey=True, layout=\"constrained\", figsize=(9, 5))\n",
    "\n",
    "width = 0.15  # the width of the bars\n",
    "\n",
    "models = tuple(models) # ci sono i modelli utilizzati \n",
    "\n",
    "relations = (\"is_a\", \"specific_term\", \"such_as\") # ci sono i tipi di relazione utilizzati \n",
    "\n",
    "labels = (\"H@1\", \"H@2\", \"H@5\", \"H@10\") # ci sono i valori di k utilizzati\n",
    "\n",
    "x = np.arange(len(labels))  # the label of precision\n",
    "\n",
    "for (i, j) in enumerate([0, 1, 2]):    \n",
    "\n",
    "    rects1 = axes[j].bar(x, recall_models[models[0]][i][1], width, label=models[0])\n",
    "    axes[j].bar_label(rects1, padding=3)\n",
    "    \n",
    "    rects2 = axes[j].bar(x + width, precisions_models[models[1]][i][1], width, label=models[1])\n",
    "    axes[j].bar_label(rects2, padding=3)\n",
    "\n",
    "    #rects3 = axes[j].bar(x + 2*width, precisions_models[models[2]][i][1], width, label=models[2])\n",
    "    #axes[j].bar_label(rects3, padding=3)\n",
    "\n",
    "    #rects4 = axes[j, k].bar(x + 3*width, precisions_models[models[3]][i][1], width, label=models[3])\n",
    "    #axes[j, k].bar_label(rects4, padding=3)\n",
    "    \n",
    "\n",
    "\n",
    "    #rects1 = ax.bar(x - width/2, men_means, width, label='')\n",
    "    #rects2 = ax.bar(x + width/2, women_means, width, label='')\n",
    "\n",
    "\n",
    "    # Add some text for labels, title and custom x-axis tick labels, etc.\n",
    "    axes[j].set_ylabel(recall_models[models[0]][i][0])\n",
    "    axes[j].set_title('Recall by models and k')\n",
    "    axes[j].set_xticks(x, labels)\n",
    "    axes[j].legend()\n",
    "\n",
    "\n",
    "plt.show()"
   ]
  },
  {
   "cell_type": "markdown",
   "metadata": {},
   "source": [
    "### MRR"
   ]
  },
  {
   "cell_type": "code",
   "execution_count": 5,
   "metadata": {},
   "outputs": [
    {
     "name": "stdout",
     "output_type": "stream",
     "text": [
      "+---------------+----------+-------------+\n",
      "| Experiment    | MRR-BERT | MRR-ELECTRA |\n",
      "+---------------+----------+-------------+\n",
      "| is_a          | 0.160    | 0.070       |\n",
      "+---------------+----------+-------------+\n",
      "| specific_term | 0.170    | 0.050       |\n",
      "+---------------+----------+-------------+\n",
      "| such_as       | 0.160    | 0.110       |\n",
      "+---------------+----------+-------------+\n",
      "\n",
      "Latextable Output:\n",
      "\\begin{table}\n",
      "\t\\begin{center}\n",
      "\t\t\\begin{tabular}{|m|m|m|}\n",
      "\t\t\t\\hline\n",
      "\t\t\t \\\\\n",
      "\t\t\t\\hline\n",
      "\t\t\tExperiment & MRR-BERT & MRR-ELECTRA \\\\\n",
      "\t\t\t\\hline\n",
      "\t\t\tis_a & 0.160 & 0.070 \\\\\n",
      "\t\t\t\\hline\n",
      "\t\t\tspecific_term & 0.170 & 0.050 \\\\\n",
      "\t\t\t\\hline\n",
      "\t\t\tsuch_as & 0.160 & 0.110 \\\\\n",
      "\t\t\t\\hline\n",
      "\t\t\\end{tabular}\n",
      "\t\\end{center}\n",
      "\t\\caption{An example table.}\n",
      "\t\\label{table:example_table}\n",
      "\\end{table}\n"
     ]
    }
   ],
   "source": [
    "table = Texttable()\n",
    "table.set_cols_align([\"m\", \"m\", \"m\"])\n",
    "table.add_row([\"Experiment\", \"MRR-BERT\", \"MRR-ELECTRA\"])\n",
    "\n",
    "for (experiment, value_bert), (_, value_electra) in zip(mrr_models[\"bert\"], mrr_models[\"electra\"]):\n",
    "    table.add_row([experiment, value_bert, value_electra])\n",
    "\n",
    "\n",
    "print(table.draw())\n",
    "print('\\nLatextable Output:')\n",
    "print(latextable.draw_latex(table, caption=\"An example table.\", label=\"table:example_table\"))"
   ]
  },
  {
   "cell_type": "markdown",
   "metadata": {},
   "source": [
    "#### Hyponym relation"
   ]
  },
  {
   "cell_type": "code",
   "execution_count": 6,
   "metadata": {},
   "outputs": [
    {
     "name": "stdout",
     "output_type": "stream",
     "text": [
      "{'bert': [0.26, 0.33, 0.41, 0.47], 'electra': [0.19, 0.25, 0.34, 0.38]}\n",
      "{'bert': [0.25, 0.32, 0.4, 0.47], 'electra': [0.18, 0.24, 0.33, 0.38]}\n",
      "{'bert': [0.12], 'electra': [0.1]}\n"
     ]
    }
   ],
   "source": [
    "# Load the results\n",
    "\n",
    "models = [\"bert\", \"electra\"]\n",
    "kb = \"wn\"\n",
    "name_file = \"hyponym_sents_masked_first_20.txt\"\n",
    "\n",
    "precisions_models = {}\n",
    "recall_models = {}\n",
    "mrr_models = {}\n",
    "\n",
    "for model in models:\n",
    "    file = f'/Users/128525/Desktop/Uni/SemGPT/it/unito/evaluation/{model}/{kb}/{name_file}'\n",
    "\n",
    "    precisions = []\n",
    "    recalls = []\n",
    "    mrrs = []\n",
    "\n",
    "    with open(file, 'r', encoding=\"utf8\") as f:\n",
    "        lines = f.readlines()\n",
    "\n",
    "        precs_text = lines[:4]\n",
    "        \n",
    "        prec_rel_k = []\n",
    "        for line in precs_text:\n",
    "            split = line.strip().split(\": \")\n",
    "            prec_v = round(float(split[1]), 2)\n",
    "            prec_rel_k.append(prec_v)\n",
    "\n",
    "\n",
    "        recalls_text = lines[6:10]\n",
    "\n",
    "        recall_rel_k = []\n",
    "        for line in recalls_text:\n",
    "            split = line.strip().split(\": \")\n",
    "            recall_v = round(float(split[1]), 2)\n",
    "            recall_rel_k.append(recall_v)\n",
    "\n",
    "        mrr_text = lines[18] # line is mrr\n",
    "        split = mrr_text.strip().split(\": \")\n",
    "        mrr = round(float(split[1]), 2)\n",
    "\n",
    "\n",
    "        precisions.extend(prec_rel_k)\n",
    "\n",
    "        recalls.extend(recall_rel_k)\n",
    "\n",
    "        mrrs.append(mrr)\n",
    "\n",
    "    precisions_models[model] = precisions\n",
    "    recall_models[model] = recalls\n",
    "    mrr_models[model] = mrrs\n",
    "\n",
    "\n",
    "print(precisions_models)\n",
    "print(recall_models)\n",
    "print(mrr_models)\n",
    "\n"
   ]
  },
  {
   "cell_type": "markdown",
   "metadata": {},
   "source": [
    "### PRECISION@k\n"
   ]
  },
  {
   "cell_type": "code",
   "execution_count": 7,
   "metadata": {},
   "outputs": [
    {
     "name": "stdout",
     "output_type": "stream",
     "text": [
      "+---------+-------+-------+-------+-------+\n",
      "| Model   | p@1   | p@2   | p@5   | p@10  |\n",
      "+---------+-------+-------+-------+-------+\n",
      "| BERT    | 0.260 | 0.330 | 0.410 | 0.470 |\n",
      "+---------+-------+-------+-------+-------+\n",
      "| ELECTRA | 0.190 | 0.250 | 0.340 | 0.380 |\n",
      "+---------+-------+-------+-------+-------+\n",
      "\n",
      "Latextable Output:\n",
      "\\begin{table}\n",
      "\t\\begin{center}\n",
      "\t\t\\begin{tabular}{|l|m|m|m|m|}\n",
      "\t\t\t\\hline\n",
      "\t\t\t \\\\\n",
      "\t\t\t\\hline\n",
      "\t\t\tModel & p@1 & p@2 & p@5 & p@10 \\\\\n",
      "\t\t\t\\hline\n",
      "\t\t\tBERT & 0.260 & 0.330 & 0.410 & 0.470 \\\\\n",
      "\t\t\t\\hline\n",
      "\t\t\tELECTRA & 0.190 & 0.250 & 0.340 & 0.380 \\\\\n",
      "\t\t\t\\hline\n",
      "\t\t\\end{tabular}\n",
      "\t\\end{center}\n",
      "\t\\caption{An example table.}\n",
      "\t\\label{table:example_table}\n",
      "\\end{table}\n"
     ]
    }
   ],
   "source": [
    "table = Texttable()\n",
    "table.set_cols_align([\"l\", \"m\", \"m\", \"m\", \"m\"])\n",
    "table.add_row([\"Model\", \"p@1\", \"p@2\", \"p@5\", \"p@10\"])\n",
    "\n",
    "for model in models:\n",
    "    \n",
    "    precs = precisions_models[model]\n",
    "    \n",
    "    table.add_row([model.upper(), precs[0], precs[1], precs[2], precs[3]])\n",
    "\n",
    "\n",
    "print(table.draw())\n",
    "print('\\nLatextable Output:')\n",
    "print(latextable.draw_latex(table, caption=\"An example table.\", label=\"table:example_table\"))"
   ]
  },
  {
   "cell_type": "markdown",
   "metadata": {},
   "source": [
    "### RECALL@k"
   ]
  },
  {
   "cell_type": "code",
   "execution_count": 8,
   "metadata": {},
   "outputs": [
    {
     "name": "stdout",
     "output_type": "stream",
     "text": [
      "+---------+-------+-------+-------+-------+\n",
      "| Model   | H@1   | H@2   | H@5   | H@10  |\n",
      "+---------+-------+-------+-------+-------+\n",
      "| BERT    | 0.250 | 0.320 | 0.400 | 0.470 |\n",
      "+---------+-------+-------+-------+-------+\n",
      "| ELECTRA | 0.180 | 0.240 | 0.330 | 0.380 |\n",
      "+---------+-------+-------+-------+-------+\n",
      "\n",
      "Latextable Output:\n",
      "\\begin{table}\n",
      "\t\\begin{center}\n",
      "\t\t\\begin{tabular}{|l|m|m|m|m|}\n",
      "\t\t\t\\hline\n",
      "\t\t\t \\\\\n",
      "\t\t\t\\hline\n",
      "\t\t\tModel & H@1 & H@2 & H@5 & H@10 \\\\\n",
      "\t\t\t\\hline\n",
      "\t\t\tBERT & 0.250 & 0.320 & 0.400 & 0.470 \\\\\n",
      "\t\t\t\\hline\n",
      "\t\t\tELECTRA & 0.180 & 0.240 & 0.330 & 0.380 \\\\\n",
      "\t\t\t\\hline\n",
      "\t\t\\end{tabular}\n",
      "\t\\end{center}\n",
      "\t\\caption{An example table.}\n",
      "\t\\label{table:example_table}\n",
      "\\end{table}\n"
     ]
    }
   ],
   "source": [
    "table = Texttable()\n",
    "table.set_cols_align([\"l\", \"m\", \"m\", \"m\", \"m\"])\n",
    "table.add_row([\"Model\", \"H@1\", \"H@2\", \"H@5\", \"H@10\"])\n",
    "\n",
    "for model in models:\n",
    "    \n",
    "    recalls = recall_models[model]\n",
    "    \n",
    "    table.add_row([model.upper(), recalls[0], recalls[1], recalls[2], recalls[3]])\n",
    "\n",
    "\n",
    "print(table.draw())\n",
    "print('\\nLatextable Output:')\n",
    "print(latextable.draw_latex(table, caption=\"An example table.\", label=\"table:example_table\"))"
   ]
  },
  {
   "cell_type": "markdown",
   "metadata": {},
   "source": [
    "### MRR"
   ]
  },
  {
   "cell_type": "code",
   "execution_count": 9,
   "metadata": {},
   "outputs": [
    {
     "name": "stdout",
     "output_type": "stream",
     "text": [
      "+---------+-------+\n",
      "| Model   | MRR   |\n",
      "+---------+-------+\n",
      "| BERT    | 0.120 |\n",
      "+---------+-------+\n",
      "| ELECTRA | 0.100 |\n",
      "+---------+-------+\n",
      "\n",
      "Latextable Output:\n",
      "\\begin{table}\n",
      "\t\\begin{center}\n",
      "\t\t\\begin{tabular}{|l|m|}\n",
      "\t\t\t\\hline\n",
      "\t\t\t \\\\\n",
      "\t\t\t\\hline\n",
      "\t\t\tModel & MRR \\\\\n",
      "\t\t\t\\hline\n",
      "\t\t\tBERT & 0.120 \\\\\n",
      "\t\t\t\\hline\n",
      "\t\t\tELECTRA & 0.100 \\\\\n",
      "\t\t\t\\hline\n",
      "\t\t\\end{tabular}\n",
      "\t\\end{center}\n",
      "\t\\caption{An example table.}\n",
      "\t\\label{table:example_table}\n",
      "\\end{table}\n"
     ]
    }
   ],
   "source": [
    "table = Texttable()\n",
    "table.set_cols_align([\"l\", \"m\"])\n",
    "table.add_row([\"Model\", \"MRR\"])\n",
    "\n",
    "for model in models:\n",
    "    \n",
    "    mrr = mrr_models[model]\n",
    "    \n",
    "    table.add_row([model.upper(), mrr[0]])\n",
    "\n",
    "\n",
    "print(table.draw())\n",
    "print('\\nLatextable Output:')\n",
    "print(latextable.draw_latex(table, caption=\"An example table.\", label=\"table:example_table\"))"
   ]
  },
  {
   "cell_type": "markdown",
   "metadata": {},
   "source": [
    "#### Part meronym relation"
   ]
  },
  {
   "cell_type": "code",
   "execution_count": 10,
   "metadata": {},
   "outputs": [
    {
     "name": "stdout",
     "output_type": "stream",
     "text": [
      "{'bert': [0.15, 0.2, 0.28, 0.35], 'electra': [0.11, 0.14, 0.19, 0.23]}\n",
      "{'bert': [0.13, 0.17, 0.25, 0.33], 'electra': [0.09, 0.12, 0.17, 0.22]}\n",
      "{'bert': [0.1], 'electra': [0.07]}\n"
     ]
    }
   ],
   "source": [
    "# Load the results\n",
    "\n",
    "models = [\"bert\", \"electra\"]\n",
    "kb = \"wn\"\n",
    "name_file = \"part_meronym_sents_masked_first_20.txt\"\n",
    "\n",
    "precisions_models = {}\n",
    "recall_models = {}\n",
    "mrr_models = {}\n",
    "\n",
    "for model in models:\n",
    "    file = f'/Users/128525/Desktop/Uni/SemGPT/it/unito/evaluation/{model}/{kb}/{name_file}'\n",
    "\n",
    "    precisions = []\n",
    "    recalls = []\n",
    "    mrrs = []\n",
    "\n",
    "    with open(file, 'r', encoding=\"utf8\") as f:\n",
    "        lines = f.readlines()\n",
    "\n",
    "        precs_text = lines[:4]\n",
    "        \n",
    "        prec_rel_k = []\n",
    "        for line in precs_text:\n",
    "            split = line.strip().split(\": \")\n",
    "            prec_v = round(float(split[1]), 2)\n",
    "            prec_rel_k.append(prec_v)\n",
    "\n",
    "\n",
    "        recalls_text = lines[6:10]\n",
    "\n",
    "        recall_rel_k = []\n",
    "        for line in recalls_text:\n",
    "            split = line.strip().split(\": \")\n",
    "            recall_v = round(float(split[1]), 2)\n",
    "            recall_rel_k.append(recall_v)\n",
    "\n",
    "        mrr_text = lines[18] # line is mrr\n",
    "        split = mrr_text.strip().split(\": \")\n",
    "        mrr = round(float(split[1]), 2)\n",
    "\n",
    "\n",
    "        precisions.extend(prec_rel_k)\n",
    "\n",
    "        recalls.extend(recall_rel_k)\n",
    "\n",
    "        mrrs.append(mrr)\n",
    "\n",
    "    precisions_models[model] = precisions\n",
    "    recall_models[model] = recalls\n",
    "    mrr_models[model] = mrrs\n",
    "\n",
    "\n",
    "print(precisions_models)\n",
    "print(recall_models)\n",
    "print(mrr_models)"
   ]
  },
  {
   "cell_type": "markdown",
   "metadata": {},
   "source": [
    "### PRECISION@k"
   ]
  },
  {
   "cell_type": "code",
   "execution_count": 11,
   "metadata": {},
   "outputs": [
    {
     "name": "stdout",
     "output_type": "stream",
     "text": [
      "+---------+-------+-------+-------+-------+\n",
      "| Model   | p@1   | p@2   | p@5   | p@10  |\n",
      "+---------+-------+-------+-------+-------+\n",
      "| BERT    | 0.150 | 0.200 | 0.280 | 0.350 |\n",
      "+---------+-------+-------+-------+-------+\n",
      "| ELECTRA | 0.110 | 0.140 | 0.190 | 0.230 |\n",
      "+---------+-------+-------+-------+-------+\n",
      "\n",
      "Latextable Output:\n",
      "\\begin{table}\n",
      "\t\\begin{center}\n",
      "\t\t\\begin{tabular}{|l|m|m|m|m|}\n",
      "\t\t\t\\hline\n",
      "\t\t\t \\\\\n",
      "\t\t\t\\hline\n",
      "\t\t\tModel & p@1 & p@2 & p@5 & p@10 \\\\\n",
      "\t\t\t\\hline\n",
      "\t\t\tBERT & 0.150 & 0.200 & 0.280 & 0.350 \\\\\n",
      "\t\t\t\\hline\n",
      "\t\t\tELECTRA & 0.110 & 0.140 & 0.190 & 0.230 \\\\\n",
      "\t\t\t\\hline\n",
      "\t\t\\end{tabular}\n",
      "\t\\end{center}\n",
      "\t\\caption{An example table.}\n",
      "\t\\label{table:example_table}\n",
      "\\end{table}\n"
     ]
    }
   ],
   "source": [
    "table = Texttable()\n",
    "table.set_cols_align([\"l\", \"m\", \"m\", \"m\", \"m\"])\n",
    "table.add_row([\"Model\", \"p@1\", \"p@2\", \"p@5\", \"p@10\"])\n",
    "\n",
    "for model in models:\n",
    "    \n",
    "    precs = precisions_models[model]\n",
    "    \n",
    "    table.add_row([model.upper(), precs[0], precs[1], precs[2], precs[3]])\n",
    "\n",
    "\n",
    "print(table.draw())\n",
    "print('\\nLatextable Output:')\n",
    "print(latextable.draw_latex(table, caption=\"An example table.\", label=\"table:example_table\"))"
   ]
  },
  {
   "cell_type": "markdown",
   "metadata": {},
   "source": [
    "### RECALL@k"
   ]
  },
  {
   "cell_type": "code",
   "execution_count": 12,
   "metadata": {},
   "outputs": [
    {
     "name": "stdout",
     "output_type": "stream",
     "text": [
      "+---------+-------+-------+-------+-------+\n",
      "| Model   | H@1   | H@2   | H@5   | H@10  |\n",
      "+---------+-------+-------+-------+-------+\n",
      "| BERT    | 0.130 | 0.170 | 0.250 | 0.330 |\n",
      "+---------+-------+-------+-------+-------+\n",
      "| ELECTRA | 0.090 | 0.120 | 0.170 | 0.220 |\n",
      "+---------+-------+-------+-------+-------+\n",
      "\n",
      "Latextable Output:\n",
      "\\begin{table}\n",
      "\t\\begin{center}\n",
      "\t\t\\begin{tabular}{|l|m|m|m|m|}\n",
      "\t\t\t\\hline\n",
      "\t\t\t \\\\\n",
      "\t\t\t\\hline\n",
      "\t\t\tModel & H@1 & H@2 & H@5 & H@10 \\\\\n",
      "\t\t\t\\hline\n",
      "\t\t\tBERT & 0.130 & 0.170 & 0.250 & 0.330 \\\\\n",
      "\t\t\t\\hline\n",
      "\t\t\tELECTRA & 0.090 & 0.120 & 0.170 & 0.220 \\\\\n",
      "\t\t\t\\hline\n",
      "\t\t\\end{tabular}\n",
      "\t\\end{center}\n",
      "\t\\caption{An example table.}\n",
      "\t\\label{table:example_table}\n",
      "\\end{table}\n"
     ]
    }
   ],
   "source": [
    "table = Texttable()\n",
    "table.set_cols_align([\"l\", \"m\", \"m\", \"m\", \"m\"])\n",
    "table.add_row([\"Model\", \"H@1\", \"H@2\", \"H@5\", \"H@10\"])\n",
    "\n",
    "for model in models:\n",
    "    \n",
    "    recalls = recall_models[model]\n",
    "    \n",
    "    table.add_row([model.upper(), recalls[0], recalls[1], recalls[2], recalls[3]])\n",
    "\n",
    "\n",
    "print(table.draw())\n",
    "print('\\nLatextable Output:')\n",
    "print(latextable.draw_latex(table, caption=\"An example table.\", label=\"table:example_table\"))"
   ]
  },
  {
   "cell_type": "markdown",
   "metadata": {},
   "source": [
    "### MRR"
   ]
  },
  {
   "cell_type": "code",
   "execution_count": 13,
   "metadata": {},
   "outputs": [
    {
     "name": "stdout",
     "output_type": "stream",
     "text": [
      "+---------+-------+\n",
      "| Model   | MRR   |\n",
      "+---------+-------+\n",
      "| BERT    | 0.100 |\n",
      "+---------+-------+\n",
      "| ELECTRA | 0.070 |\n",
      "+---------+-------+\n",
      "\n",
      "Latextable Output:\n",
      "\\begin{table}\n",
      "\t\\begin{center}\n",
      "\t\t\\begin{tabular}{|l|m|}\n",
      "\t\t\t\\hline\n",
      "\t\t\t \\\\\n",
      "\t\t\t\\hline\n",
      "\t\t\tModel & MRR \\\\\n",
      "\t\t\t\\hline\n",
      "\t\t\tBERT & 0.100 \\\\\n",
      "\t\t\t\\hline\n",
      "\t\t\tELECTRA & 0.070 \\\\\n",
      "\t\t\t\\hline\n",
      "\t\t\\end{tabular}\n",
      "\t\\end{center}\n",
      "\t\\caption{An example table.}\n",
      "\t\\label{table:example_table}\n",
      "\\end{table}\n"
     ]
    }
   ],
   "source": [
    "table = Texttable()\n",
    "table.set_cols_align([\"l\", \"m\"])\n",
    "table.add_row([\"Model\", \"MRR\"])\n",
    "\n",
    "for model in models:\n",
    "    \n",
    "    mrr = mrr_models[model]\n",
    "    \n",
    "    table.add_row([model.upper(), mrr[0]])\n",
    "\n",
    "\n",
    "print(table.draw())\n",
    "print('\\nLatextable Output:')\n",
    "print(latextable.draw_latex(table, caption=\"An example table.\", label=\"table:example_table\"))"
   ]
  }
 ],
 "metadata": {
  "kernelspec": {
   "display_name": "Python 3",
   "language": "python",
   "name": "python3"
  },
  "language_info": {
   "codemirror_mode": {
    "name": "ipython",
    "version": 3
   },
   "file_extension": ".py",
   "mimetype": "text/x-python",
   "name": "python",
   "nbconvert_exporter": "python",
   "pygments_lexer": "ipython3",
   "version": "3.9.9"
  },
  "orig_nbformat": 4
 },
 "nbformat": 4,
 "nbformat_minor": 2
}
